{
  "metadata": {
    "kernelspec": {
      "language": "python",
      "display_name": "Python 3",
      "name": "python3"
    },
    "language_info": {
      "name": "python",
      "version": "3.11.11",
      "mimetype": "text/x-python",
      "codemirror_mode": {
        "name": "ipython",
        "version": 3
      },
      "pygments_lexer": "ipython3",
      "nbconvert_exporter": "python",
      "file_extension": ".py"
    },
    "kaggle": {
      "accelerator": "none",
      "dataSources": [
        {
          "sourceId": 3756201,
          "sourceType": "datasetVersion",
          "datasetId": 551982
        }
      ],
      "dockerImageVersionId": 31040,
      "isInternetEnabled": true,
      "language": "python",
      "sourceType": "notebook",
      "isGpuEnabled": false
    },
    "colab": {
      "name": "CORD-19 Data Analysis Project",
      "provenance": [],
      "include_colab_link": true
    }
  },
  "nbformat_minor": 0,
  "nbformat": 4,
  "cells": [
    {
      "cell_type": "markdown",
      "metadata": {
        "id": "view-in-github",
        "colab_type": "text"
      },
      "source": [
        "<a href=\"https://colab.research.google.com/github/yusrayalavuz/COVID-19-Research-Dataset-Analysis/blob/main/CORD_19_Data_Analysis_Project.ipynb\" target=\"_parent\"><img src=\"https://colab.research.google.com/assets/colab-badge.svg\" alt=\"Open In Colab\"/></a>"
      ]
    },
    {
      "source": [
        "# IMPORTANT: RUN THIS CELL IN ORDER TO IMPORT YOUR KAGGLE DATA SOURCES,\n",
        "# THEN FEEL FREE TO DELETE THIS CELL.\n",
        "# NOTE: THIS NOTEBOOK ENVIRONMENT DIFFERS FROM KAGGLE'S PYTHON\n",
        "# ENVIRONMENT SO THERE MAY BE MISSING LIBRARIES USED BY YOUR\n",
        "# NOTEBOOK.\n",
        "import kagglehub\n",
        "allen_institute_for_ai_cord_19_research_challenge_path = kagglehub.dataset_download('allen-institute-for-ai/CORD-19-research-challenge')\n",
        "\n",
        "print('Data source import complete.')\n"
      ],
      "metadata": {
        "id": "0xMme5NqU7sO"
      },
      "cell_type": "code",
      "outputs": [],
      "execution_count": null
    },
    {
      "cell_type": "markdown",
      "source": [
        "# COVID-19 Research Dataset Analysis\n"
      ],
      "metadata": {
        "id": "VNeFaRtTU7sR"
      }
    },
    {
      "cell_type": "markdown",
      "source": [
        "## 📂 Data Loading"
      ],
      "metadata": {
        "id": "NEDzaaHbU7sS"
      }
    },
    {
      "cell_type": "code",
      "source": [
        "# This Python 3 environment comes with many helpful analytics libraries installed\n",
        "# It is defined by the kaggle/python Docker image: https://github.com/kaggle/docker-python\n",
        "# For example, here's several helpful packages to load\n",
        "\n",
        "import numpy as np # linear algebra\n",
        "import pandas as pd # data processing, CSV file I/O (e.g. pd.read_csv)\n",
        "import matplotlib.pyplot as plt\n",
        "import seaborn as sns\n",
        "import missingno as msno\n",
        "\n",
        "# Input data files are available in the read-only \"../input/\" directory\n",
        "# For example, running this (by clicking run or pressing Shift+Enter) will list all files under the input directory\n",
        "\n",
        "\n",
        "import os\n",
        "\n",
        "for filename in os.listdir('/kaggle/input/CORD-19-research-challenge'):\n",
        "    print(filename)\n"
      ],
      "metadata": {
        "_uuid": "8f2839f25d086af736a60e9eeb907d3b93b6e0e5",
        "_cell_guid": "b1076dfc-b9ad-4769-8c92-a6c4dae69d19",
        "trusted": true,
        "execution": {
          "iopub.status.busy": "2025-07-10T07:02:13.560509Z",
          "iopub.execute_input": "2025-07-10T07:02:13.560809Z",
          "iopub.status.idle": "2025-07-10T07:02:14.910135Z",
          "shell.execute_reply.started": "2025-07-10T07:02:13.560785Z",
          "shell.execute_reply": "2025-07-10T07:02:14.909387Z"
        },
        "id": "Q3Evhx24U7sT"
      },
      "outputs": [],
      "execution_count": null
    },
    {
      "cell_type": "code",
      "source": [
        "df = pd.read_csv('/kaggle/input/CORD-19-research-challenge/metadata.csv')\n",
        "df.head()\n"
      ],
      "metadata": {
        "trusted": true,
        "execution": {
          "iopub.status.busy": "2025-07-10T07:02:14.911377Z",
          "iopub.execute_input": "2025-07-10T07:02:14.911992Z",
          "iopub.status.idle": "2025-07-10T07:03:06.220475Z",
          "shell.execute_reply.started": "2025-07-10T07:02:14.911967Z",
          "shell.execute_reply": "2025-07-10T07:03:06.219511Z"
        },
        "id": "yJgHkruzU7sU"
      },
      "outputs": [],
      "execution_count": null
    },
    {
      "cell_type": "markdown",
      "source": [
        "## 📊 Dataset Overview\n",
        "\n",
        "This dataset contains metadata of research articles related to COVID-19 and other coronaviruses. Below is a brief description of each column in the **metadata.csv** file:\n",
        "\n",
        "| Column Name         | Description                                                                                         |\n",
        "|---------------------|-----------------------------------------------------------------------------------------------------|\n",
        "| `cord_uid`          | Unique identifier for each research article                                                        |\n",
        "| `sha`               | SHA hash of the full text PDF, used to match full-text files                                       |\n",
        "| `source_x`          | Source of the publication (e.g., PMC, Elsevier)                                                    |\n",
        "| `title`             | Title of the research paper                                                                        |\n",
        "| `doi`               | Digital Object Identifier (DOI) of the paper                                                       |\n",
        "| `pmcid`             | PubMed Central ID                                                                                   |\n",
        "| `pubmed_id`         | PubMed ID                                                                                           |\n",
        "| `license`           | License type of the paper                                                                          |\n",
        "| `abstract`          | Abstract (summary) of the research paper                                                           |\n",
        "| `publish_time`      | Publication date                                                                                   |\n",
        "| `authors`           | List of authors                                                                                    |\n",
        "| `journal`           | Journal where the article was published                                                            |\n",
        "| `mag_id`, `who_covidence_id`, `arxiv_id` | Additional IDs for cross-referencing (many may be missing)                    |\n",
        "| `pdf_json_files`    | Path to the parsed PDF JSON file                                                                   |\n",
        "| `pmc_json_files`    | Path to the parsed PMC JSON file                                                                   |\n",
        "| `url`               | URL of the article                                                                                 |\n",
        "| `s2_id`             | Semantic Scholar paper ID                                                                          |\n",
        "\n",
        "This dataset is large and diverse, covering a wide range of COVID-19 research literature. The main purpose of this project is to explore trends, identify missing or anomalous data, and visualize key features of the literature.\n"
      ],
      "metadata": {
        "id": "jtR3beXVU7sU"
      }
    },
    {
      "cell_type": "code",
      "source": [
        "# Columns and their data types\n",
        "df.info()\n"
      ],
      "metadata": {
        "trusted": true,
        "execution": {
          "iopub.status.busy": "2025-07-10T07:03:06.221423Z",
          "iopub.execute_input": "2025-07-10T07:03:06.221759Z",
          "iopub.status.idle": "2025-07-10T07:03:07.158897Z",
          "shell.execute_reply.started": "2025-07-10T07:03:06.221735Z",
          "shell.execute_reply": "2025-07-10T07:03:07.157904Z"
        },
        "id": "MSMvXjW2U7sV"
      },
      "outputs": [],
      "execution_count": null
    },
    {
      "cell_type": "code",
      "source": [
        "df.describe(include='all')\n"
      ],
      "metadata": {
        "trusted": true,
        "execution": {
          "iopub.status.busy": "2025-07-10T07:03:07.161159Z",
          "iopub.execute_input": "2025-07-10T07:03:07.161467Z",
          "iopub.status.idle": "2025-07-10T07:03:17.952367Z",
          "shell.execute_reply.started": "2025-07-10T07:03:07.16144Z",
          "shell.execute_reply": "2025-07-10T07:03:17.951477Z"
        },
        "id": "DIUpWK5JU7sV"
      },
      "outputs": [],
      "execution_count": null
    },
    {
      "cell_type": "markdown",
      "source": [
        "## 🔍 Missing Data Analysis"
      ],
      "metadata": {
        "id": "YYf8KL9sU7sV"
      }
    },
    {
      "cell_type": "code",
      "source": [
        "# Calculate the number of missing values per column\n",
        "missing_values = df.isnull().sum().sort_values()\n",
        "\n",
        "# Calculate the percentage of missing values\n",
        "missing_percent = (missing_values / len(df)) * 100\n",
        "\n",
        "# Create a summary DataFrame\n",
        "missing_data = pd.DataFrame({\n",
        "    'Missing Values': missing_values,\n",
        "    'Missing (%)': missing_percent\n",
        "})\n",
        "\n",
        "# Display columns with more than 10% missing data\n",
        "missing_data[missing_data['Missing (%)'] > 10]\n"
      ],
      "metadata": {
        "trusted": true,
        "execution": {
          "iopub.status.busy": "2025-07-10T07:03:17.953223Z",
          "iopub.execute_input": "2025-07-10T07:03:17.953474Z",
          "iopub.status.idle": "2025-07-10T07:03:18.867137Z",
          "shell.execute_reply.started": "2025-07-10T07:03:17.95345Z",
          "shell.execute_reply": "2025-07-10T07:03:18.866374Z"
        },
        "id": "nDYgfG7AU7sW"
      },
      "outputs": [],
      "execution_count": null
    },
    {
      "cell_type": "code",
      "source": [
        "msno.matrix(df)\n",
        "plt.title(\"Missing Data Matrix\", fontsize=14)\n",
        "plt.show()\n"
      ],
      "metadata": {
        "trusted": true,
        "execution": {
          "iopub.status.busy": "2025-07-10T07:03:18.868271Z",
          "iopub.execute_input": "2025-07-10T07:03:18.868553Z",
          "iopub.status.idle": "2025-07-10T07:03:25.534641Z",
          "shell.execute_reply.started": "2025-07-10T07:03:18.868522Z",
          "shell.execute_reply": "2025-07-10T07:03:25.533614Z"
        },
        "id": "u03mzYlzU7sW"
      },
      "outputs": [],
      "execution_count": null
    },
    {
      "cell_type": "code",
      "source": [
        "# Bar plot for missing values percentage\n",
        "missing_percent = (df.isnull().sum() / len(df)) * 100\n",
        "\n",
        "plt.figure(figsize=(12, 6))\n",
        "missing_percent[missing_percent > 0].sort_values(ascending=False).plot(kind='bar', color='salmon')\n",
        "plt.ylabel(\"Missing Value Percentage (%)\")\n",
        "plt.title(\"Percentage of Missing Values by Column\")\n",
        "plt.xticks(rotation=45)\n",
        "plt.show()\n"
      ],
      "metadata": {
        "trusted": true,
        "execution": {
          "iopub.status.busy": "2025-07-10T07:03:25.535633Z",
          "iopub.execute_input": "2025-07-10T07:03:25.536004Z",
          "iopub.status.idle": "2025-07-10T07:03:26.776806Z",
          "shell.execute_reply.started": "2025-07-10T07:03:25.535968Z",
          "shell.execute_reply": "2025-07-10T07:03:26.775903Z"
        },
        "id": "KLRKVTXiU7sW"
      },
      "outputs": [],
      "execution_count": null
    },
    {
      "cell_type": "code",
      "source": [
        "# Drop irrelevant columns with high missing data\n",
        "df_clean = df.drop(columns=['mag_id', 'sha', 'pmcid', 'pdf_json_files', 'pmc_json_files', 'arxiv_id'])\n"
      ],
      "metadata": {
        "trusted": true,
        "execution": {
          "iopub.status.busy": "2025-07-10T07:03:26.777583Z",
          "iopub.execute_input": "2025-07-10T07:03:26.777875Z",
          "iopub.status.idle": "2025-07-10T07:03:26.970458Z",
          "shell.execute_reply.started": "2025-07-10T07:03:26.777829Z",
          "shell.execute_reply": "2025-07-10T07:03:26.969551Z"
        },
        "id": "2o36TcEEU7sW"
      },
      "outputs": [],
      "execution_count": null
    },
    {
      "cell_type": "code",
      "source": [
        "# Drop rows where key columns are missing\n",
        "df_clean = df_clean.dropna(subset=['title', 'abstract', 'publish_time'])\n"
      ],
      "metadata": {
        "trusted": true,
        "execution": {
          "iopub.status.busy": "2025-07-10T07:03:26.97126Z",
          "iopub.execute_input": "2025-07-10T07:03:26.971506Z",
          "iopub.status.idle": "2025-07-10T07:03:27.582199Z",
          "shell.execute_reply.started": "2025-07-10T07:03:26.971488Z",
          "shell.execute_reply": "2025-07-10T07:03:27.581202Z"
        },
        "id": "1T6N38qBU7sX"
      },
      "outputs": [],
      "execution_count": null
    },
    {
      "cell_type": "code",
      "source": [
        "# New dataset size\n",
        "print(f\"The cleaned dataset contains {df_clean.shape[0]} rows and {df_clean.shape[1]} columns.\")\n",
        "\n",
        "# Check for remaining missing data\n",
        "df_clean.isnull().sum().sort_values(ascending=False)\n"
      ],
      "metadata": {
        "trusted": true,
        "execution": {
          "iopub.status.busy": "2025-07-10T07:03:27.584757Z",
          "iopub.execute_input": "2025-07-10T07:03:27.585039Z",
          "iopub.status.idle": "2025-07-10T07:03:28.186816Z",
          "shell.execute_reply.started": "2025-07-10T07:03:27.585019Z",
          "shell.execute_reply": "2025-07-10T07:03:28.185872Z"
        },
        "id": "9zwcJxWwU7sX"
      },
      "outputs": [],
      "execution_count": null
    },
    {
      "cell_type": "markdown",
      "source": [
        "## 📑 Statistical Summary\n",
        "\n",
        "In this section, we will explore the statistical summary of numeric and text-based columns in the dataset.  \n",
        "We will also look at the distribution of key categorical variables.\n"
      ],
      "metadata": {
        "id": "qROOSwI8U7sX"
      }
    },
    {
      "cell_type": "code",
      "source": [
        "# Summary statistics for numeric columns\n",
        "df_clean.describe()\n"
      ],
      "metadata": {
        "trusted": true,
        "execution": {
          "iopub.status.busy": "2025-07-10T07:03:28.187794Z",
          "iopub.execute_input": "2025-07-10T07:03:28.188181Z",
          "iopub.status.idle": "2025-07-10T07:03:28.247755Z",
          "shell.execute_reply.started": "2025-07-10T07:03:28.188157Z",
          "shell.execute_reply": "2025-07-10T07:03:28.246834Z"
        },
        "id": "xW-89RP8U7sX"
      },
      "outputs": [],
      "execution_count": null
    },
    {
      "cell_type": "code",
      "source": [
        "# Check unique values for key categorical columns\n",
        "print(\"Source Types:\", df_clean['source_x'].unique())\n",
        "print(\"License Types:\", df_clean['license'].unique())\n",
        "print(\"Example Journals:\", df_clean['journal'].unique()[:10])  # Çok fazla varsa ilk 10 göster\n"
      ],
      "metadata": {
        "trusted": true,
        "execution": {
          "iopub.status.busy": "2025-07-10T07:03:28.24882Z",
          "iopub.execute_input": "2025-07-10T07:03:28.249228Z",
          "iopub.status.idle": "2025-07-10T07:03:28.441368Z",
          "shell.execute_reply.started": "2025-07-10T07:03:28.2492Z",
          "shell.execute_reply": "2025-07-10T07:03:28.440495Z"
        },
        "id": "HfpLRLVOU7sY"
      },
      "outputs": [],
      "execution_count": null
    },
    {
      "cell_type": "markdown",
      "source": [
        "## 🚨 Outlier Detection\n",
        "\n"
      ],
      "metadata": {
        "id": "ZLuA8_szU7sY"
      }
    },
    {
      "cell_type": "code",
      "source": [
        "df_clean['publish_time'] = pd.to_datetime(df_clean['publish_time'], errors='coerce')"
      ],
      "metadata": {
        "trusted": true,
        "execution": {
          "iopub.status.busy": "2025-07-10T07:03:28.442341Z",
          "iopub.execute_input": "2025-07-10T07:03:28.442663Z",
          "iopub.status.idle": "2025-07-10T07:03:29.069775Z",
          "shell.execute_reply.started": "2025-07-10T07:03:28.442635Z",
          "shell.execute_reply": "2025-07-10T07:03:29.068802Z"
        },
        "id": "34mV90W_U7sY"
      },
      "outputs": [],
      "execution_count": null
    },
    {
      "cell_type": "code",
      "source": [
        "print(\"Number of invalid publish_time entries:\", df_clean['publish_time'].isna().sum())"
      ],
      "metadata": {
        "trusted": true,
        "execution": {
          "iopub.status.busy": "2025-07-10T07:03:29.070945Z",
          "iopub.execute_input": "2025-07-10T07:03:29.071246Z",
          "iopub.status.idle": "2025-07-10T07:03:29.086494Z",
          "shell.execute_reply.started": "2025-07-10T07:03:29.071216Z",
          "shell.execute_reply": "2025-07-10T07:03:29.085433Z"
        },
        "id": "HELvxVEqU7sY"
      },
      "outputs": [],
      "execution_count": null
    },
    {
      "cell_type": "code",
      "source": [
        "# Distribution of publication years\n",
        "df_clean['publish_year'] = df_clean['publish_time'].dt.year\n",
        "\n",
        "# Earliest and latest publication year\n",
        "print(\"Earliest publish year:\", df_clean['publish_year'].min())\n",
        "print(\"Latest publish year:\", df_clean['publish_year'].max())\n"
      ],
      "metadata": {
        "trusted": true,
        "execution": {
          "iopub.status.busy": "2025-07-10T07:40:56.03266Z",
          "iopub.execute_input": "2025-07-10T07:40:56.033023Z",
          "iopub.status.idle": "2025-07-10T07:40:56.071376Z",
          "shell.execute_reply.started": "2025-07-10T07:40:56.032999Z",
          "shell.execute_reply": "2025-07-10T07:40:56.069636Z"
        },
        "id": "Te4kig2qU7sY"
      },
      "outputs": [],
      "execution_count": null
    },
    {
      "cell_type": "code",
      "source": [
        "\n",
        "\n",
        "plt.figure(figsize=(12,6))\n",
        "df_clean['publish_year'].hist(bins=50)\n",
        "plt.title(\"Publication Year Distribution\")\n",
        "plt.xlabel(\"Year\")\n",
        "plt.ylabel(\"Number of Publications\")\n",
        "plt.show()\n"
      ],
      "metadata": {
        "trusted": true,
        "execution": {
          "iopub.status.busy": "2025-07-10T07:03:29.140417Z",
          "iopub.execute_input": "2025-07-10T07:03:29.140727Z",
          "iopub.status.idle": "2025-07-10T07:03:29.438765Z",
          "shell.execute_reply.started": "2025-07-10T07:03:29.140703Z",
          "shell.execute_reply": "2025-07-10T07:03:29.437889Z"
        },
        "id": "iIRzB8iDU7sY"
      },
      "outputs": [],
      "execution_count": null
    },
    {
      "cell_type": "code",
      "source": [
        "outliers_early = df_clean[df_clean['publish_year'] < 1900]\n",
        "outliers_late = df_clean[df_clean['publish_year'] > 2025]\n",
        "\n",
        "print(\"Number of publications before 1900:\", len(outliers_early))\n",
        "print(\"Number of publications after 2025:\", len(outliers_late))\n"
      ],
      "metadata": {
        "trusted": true,
        "execution": {
          "iopub.status.busy": "2025-07-10T07:03:29.439732Z",
          "iopub.execute_input": "2025-07-10T07:03:29.440084Z",
          "iopub.status.idle": "2025-07-10T07:03:29.451867Z",
          "shell.execute_reply.started": "2025-07-10T07:03:29.440059Z",
          "shell.execute_reply": "2025-07-10T07:03:29.450803Z"
        },
        "id": "N8kDwGYkU7sZ"
      },
      "outputs": [],
      "execution_count": null
    },
    {
      "cell_type": "code",
      "source": [
        "# Calculate Q1, Q3, and IQR for publish_year\n",
        "Q1 = df_clean['publish_year'].quantile(0.25)\n",
        "Q3 = df_clean['publish_year'].quantile(0.75)\n",
        "IQR = Q3 - Q1\n",
        "\n",
        "# Define lower and upper bounds for outliers using the 1.5 * IQR rule\n",
        "lower_bound = Q1 - 1.5 * IQR\n",
        "upper_bound = Q3 + 1.5 * IQR\n",
        "\n",
        "print(f\"Q1 (25th percentile): {Q1}\")\n",
        "print(f\"Q3 (75th percentile): {Q3}\")\n",
        "print(f\"IQR (Q3 - Q1): {IQR}\")\n",
        "print(f\"Lower bound for outliers (Q1 - 1.5*IQR): {lower_bound}\")\n",
        "print(f\"Upper bound for outliers (Q3 + 1.5*IQR): {upper_bound}\")\n",
        "\n",
        "# Count the number of outliers based on the IQR method\n",
        "outliers_iqr = df_clean[(df_clean['publish_year'] < lower_bound) | (df_clean['publish_year'] > upper_bound)]\n",
        "\n",
        "print(f\"\\nNumber of potential outliers based on IQR method: {len(outliers_iqr)}\")\n",
        "print(\"Potential outlier publish_year values:\")\n",
        "print(outliers_iqr['publish_year'].unique())"
      ],
      "metadata": {
        "trusted": true,
        "execution": {
          "iopub.status.busy": "2025-07-10T07:03:29.45295Z",
          "iopub.execute_input": "2025-07-10T07:03:29.453297Z",
          "iopub.status.idle": "2025-07-10T07:03:29.528743Z",
          "shell.execute_reply.started": "2025-07-10T07:03:29.453269Z",
          "shell.execute_reply": "2025-07-10T07:03:29.527772Z"
        },
        "id": "kWv6iShZU7sZ"
      },
      "outputs": [],
      "execution_count": null
    },
    {
      "cell_type": "code",
      "source": [
        "plt.figure(figsize=(10, 6))\n",
        "sns.boxplot(y=df_clean['publish_year'])\n",
        "plt.title(\"Boxplot of Publication Year\")\n",
        "plt.ylabel(\"Publication Year\")\n",
        "plt.show()"
      ],
      "metadata": {
        "trusted": true,
        "execution": {
          "iopub.status.busy": "2025-07-10T07:03:29.529778Z",
          "iopub.execute_input": "2025-07-10T07:03:29.530235Z",
          "iopub.status.idle": "2025-07-10T07:03:29.788974Z",
          "shell.execute_reply.started": "2025-07-10T07:03:29.530206Z",
          "shell.execute_reply": "2025-07-10T07:03:29.787929Z"
        },
        "id": "xlFwLTq6U7sZ"
      },
      "outputs": [],
      "execution_count": null
    },
    {
      "cell_type": "markdown",
      "source": [
        "Outlier Analysis for Publication Year\n",
        "\n",
        "Analysis of the `publish_year` distribution, including the boxplot and IQR method, reveals that the majority of publications in the dataset are tightly concentrated between {Q1\\_value} and {Q3\\_value}. The narrow IQR of {IQR\\_value} year highlights this concentration in recent years, likely due to the CORD-19 dataset's focus.\n",
        "\n",
        "Based on the IQR rule, {Outlier\\_count} publications with years outside the range of approximately {Lower\\_bound\\_value} and {Upper\\_bound\\_value} were identified as potential outliers. These include publications from various years, notably very early ones such as 1879, which stand out from the rest of the data.\n",
        "\n",
        "While statistically identified as outliers, many of these are older publications rather than errors, reflecting the dataset's specific focus on recent COVID-19 research. Extremely early years require further investigation."
      ],
      "metadata": {
        "id": "doX1YGFvU7sZ"
      }
    },
    {
      "cell_type": "markdown",
      "source": [
        "## 📈 Data Visualization"
      ],
      "metadata": {
        "id": "KX4Gv8rZU7sZ"
      }
    },
    {
      "cell_type": "code",
      "source": [
        "# Count the occurrences of each source type\n",
        "source_counts = df_clean['source_x'].value_counts()\n",
        "\n",
        "# Create a bar plot\n",
        "plt.figure(figsize=(10, 6))\n",
        "source_counts.plot(kind='bar', color='skyblue')\n",
        "plt.title(\"Distribution of Publication Sources (source_x)\")\n",
        "plt.xlabel(\"Source\")\n",
        "plt.ylabel(\"Number of Publications\")\n",
        "plt.xticks(rotation=45, ha='right') # Rotate labels for better readability\n",
        "plt.tight_layout() # Adjust layout to prevent labels from overlapping\n",
        "plt.show()"
      ],
      "metadata": {
        "trusted": true,
        "execution": {
          "iopub.status.busy": "2025-07-10T07:03:29.790001Z",
          "iopub.execute_input": "2025-07-10T07:03:29.790324Z",
          "iopub.status.idle": "2025-07-10T07:03:30.386Z",
          "shell.execute_reply.started": "2025-07-10T07:03:29.790296Z",
          "shell.execute_reply": "2025-07-10T07:03:30.384897Z"
        },
        "id": "nMSaOeKjU7sZ"
      },
      "outputs": [],
      "execution_count": null
    },
    {
      "cell_type": "markdown",
      "source": [
        "This bar chart shows the distribution of publications by source. The majority of the articles come from WHO, followed by other sources such as PMC, Medline, and Elsevier.\n",
        "This indicates that a significant portion of the COVID-19 literature is aggregated from major scientific repositories, with WHO being the largest contributor."
      ],
      "metadata": {
        "id": "JyoZbh3UU7sZ"
      }
    },
    {
      "cell_type": "code",
      "source": [
        "license_counts = df_clean['license'].value_counts()\n",
        "\n",
        "plt.figure(figsize=(10, 6))\n",
        "license_counts.plot(kind='bar', color='lightgreen')\n",
        "plt.title(\"Distribution of Publication Licenses\")\n",
        "plt.xlabel(\"License Type\")\n",
        "plt.ylabel(\"Number of Publications\")\n",
        "plt.xticks(rotation=45, ha='right')\n",
        "plt.tight_layout()\n",
        "plt.show()"
      ],
      "metadata": {
        "trusted": true,
        "execution": {
          "iopub.status.busy": "2025-07-10T07:03:30.386958Z",
          "iopub.execute_input": "2025-07-10T07:03:30.387222Z",
          "iopub.status.idle": "2025-07-10T07:03:30.718751Z",
          "shell.execute_reply.started": "2025-07-10T07:03:30.3872Z",
          "shell.execute_reply": "2025-07-10T07:03:30.717913Z"
        },
        "id": "WcDNwYE6U7sZ"
      },
      "outputs": [],
      "execution_count": null
    },
    {
      "cell_type": "markdown",
      "source": [
        "This bar chart shows the distribution of publication licenses. The most common license is 'unk' (unknown), indicating that many articles lack clear license information.\n",
        "Among the defined licenses, 'cc-by', 'no-cc', and 'cc-by-nc' are the most frequent, reflecting various levels of open-access permissions.\n",
        "This distribution highlights the variability in licensing within the dataset."
      ],
      "metadata": {
        "id": "WCdplUGNU7sa"
      }
    },
    {
      "cell_type": "code",
      "source": [
        "# Get the top 10 journals with the most publications\n",
        "top_journals = df_clean['journal'].value_counts().head(10)\n",
        "\n",
        "#  Create a bar chart\n",
        "plt.figure(figsize=(10, 6))\n",
        "top_journals.plot(kind='bar', color='skyblue')\n",
        "plt.title(\"Top 10 Journals by Number of Publications\")\n",
        "plt.xlabel(\"Journal\")\n",
        "plt.ylabel(\"Number of Publications\")\n",
        "plt.xticks(rotation=45, ha='right')\n",
        "plt.tight_layout()\n",
        "plt.show()\n"
      ],
      "metadata": {
        "trusted": true,
        "execution": {
          "iopub.status.busy": "2025-07-10T07:03:30.719698Z",
          "iopub.execute_input": "2025-07-10T07:03:30.719973Z",
          "iopub.status.idle": "2025-07-10T07:03:31.094475Z",
          "shell.execute_reply.started": "2025-07-10T07:03:30.719952Z",
          "shell.execute_reply": "2025-07-10T07:03:31.093463Z"
        },
        "id": "dLzPfDi4U7sa"
      },
      "outputs": [],
      "execution_count": null
    },
    {
      "cell_type": "markdown",
      "source": [
        "This bar chart highlights the top 10 journals with the highest number of COVID-19-related publications.\n",
        "PLoS One, bioRxiv, and International Journal of Environmental Research and Public Health are the leading journals, indicating their crucial role in disseminating pandemic-related scientific findings."
      ],
      "metadata": {
        "id": "rAfPbIb-U7sa"
      }
    },
    {
      "cell_type": "code",
      "source": [
        "df_clean['publish_time'] = pd.to_datetime(df_clean['publish_time'], errors='coerce')\n",
        "\n"
      ],
      "metadata": {
        "trusted": true,
        "execution": {
          "iopub.status.busy": "2025-07-10T07:17:32.338949Z",
          "iopub.execute_input": "2025-07-10T07:17:32.339375Z",
          "iopub.status.idle": "2025-07-10T07:17:32.356358Z",
          "shell.execute_reply.started": "2025-07-10T07:17:32.339311Z",
          "shell.execute_reply": "2025-07-10T07:17:32.354782Z"
        },
        "id": "_On48nBNU7sa"
      },
      "outputs": [],
      "execution_count": null
    },
    {
      "cell_type": "code",
      "source": [
        "# Create a new column in 'YYYY-MM' format\n",
        "df_clean['publish_month'] = df_clean['publish_time'].dt.to_period('M')\n",
        "\n",
        "# Count publications per month, filtering for years >= 2019\n",
        "monthly_counts = df_clean[df_clean['publish_time'].dt.year >= 2019]['publish_month'].value_counts().sort_index()\n"
      ],
      "metadata": {
        "trusted": true,
        "execution": {
          "iopub.status.busy": "2025-07-10T07:18:53.904233Z",
          "iopub.execute_input": "2025-07-10T07:18:53.904554Z",
          "iopub.status.idle": "2025-07-10T07:18:54.116074Z",
          "shell.execute_reply.started": "2025-07-10T07:18:53.904529Z",
          "shell.execute_reply": "2025-07-10T07:18:54.115056Z"
        },
        "id": "O31EBMEFU7sa"
      },
      "outputs": [],
      "execution_count": null
    },
    {
      "cell_type": "code",
      "source": [
        "plt.figure(figsize=(14, 6))\n",
        "monthly_counts.plot(kind='line', marker='o', color='teal')\n",
        "plt.title(\"Monthly Publication Trends Since 2019\")\n",
        "plt.xlabel(\"Publication Month\")\n",
        "plt.ylabel(\"Number of Publications\")\n",
        "plt.xticks(rotation=45)\n",
        "plt.tight_layout()\n",
        "plt.show()\n"
      ],
      "metadata": {
        "trusted": true,
        "execution": {
          "iopub.status.busy": "2025-07-10T07:18:58.453972Z",
          "iopub.execute_input": "2025-07-10T07:18:58.45508Z",
          "iopub.status.idle": "2025-07-10T07:18:58.754799Z",
          "shell.execute_reply.started": "2025-07-10T07:18:58.455037Z",
          "shell.execute_reply": "2025-07-10T07:18:58.753515Z"
        },
        "id": "ZtBkiZKvU7sa"
      },
      "outputs": [],
      "execution_count": null
    },
    {
      "cell_type": "markdown",
      "source": [
        "This line chart visualizes the monthly publication trend over time, focusing on publications from 2019 onwards. It shows the evolution of research output related to COVID-19 and other coronaviruses over this critical period.\n",
        "\n",
        "The graph clearly illustrates a significant increase in the number of publications starting in early 2020, coinciding with the global spread of the COVID-19 pandemic. This surge reflects the intense global research effort to understand and combat the virus. The trend shows how research output peaked and potentially evolved in the subsequent months and years."
      ],
      "metadata": {
        "id": "5fLPSyHJU7sa"
      }
    },
    {
      "cell_type": "code",
      "source": [],
      "metadata": {
        "trusted": true,
        "id": "FdaC-kGpU7sa"
      },
      "outputs": [],
      "execution_count": null
    }
  ]
}